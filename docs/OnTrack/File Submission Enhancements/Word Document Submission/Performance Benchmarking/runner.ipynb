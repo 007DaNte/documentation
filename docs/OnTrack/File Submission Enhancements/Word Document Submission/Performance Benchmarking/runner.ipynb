{
 "cells": [
  {
   "cell_type": "markdown",
   "metadata": {},
   "source": [
    "### Performance Benchmarking: Pandoc vs. LibreOffice"
   ]
  },
  {
   "cell_type": "markdown",
   "metadata": {},
   "source": [
    "The purpose of this document is to compare and benchmark the time is takes to convert a ``.docx`` file to a ``.pdf`` using the ``pandoc/latex:2.17`` and ``instructure/libreoffice:6.3`` Docker images. It’s important to note that the findings below should be used as an indicator only. Actual performance largely depends on the capability and resource consumption of the executing machine. Therefore, it’s expected that results vary between executions.\n",
    "\n",
    "Conversion time, while it plays a role, is not the only metric that should be considered when determining which Docker image is used in favor of the other. Metrics such as conversion quality, image size, maintainability etc should be considered.\n",
    "\n",
    "Note: A Docker daemon must be running in the background before executing this file."
   ]
  },
  {
   "cell_type": "code",
   "execution_count": 10,
   "metadata": {},
   "outputs": [],
   "source": [
    "# Uncomment the following packages should they need to be installed\n",
    " \n",
    "# %pip install matplotlib\n",
    "# %pip install numpy"
   ]
  },
  {
   "cell_type": "code",
   "execution_count": 11,
   "metadata": {},
   "outputs": [],
   "source": [
    "# Prepares the directory for the converted files\n",
    "\n",
    "import os\n",
    "\n",
    "def directory_setup():\n",
    "    if not os.path.isdir(\"converted_files\"):\n",
    "        os.makedirs(\"converted_files\")\n",
    "\n",
    "    if not os.path.isdir(\"converted_files/libreoffice\"):\n",
    "        os.makedirs(\"converted_files/libreoffice\")\n",
    "\n",
    "    if not os.path.isdir(\"converted_files/pandoc\"):\n",
    "        os.makedirs(\"converted_files/pandoc\")\n",
    "\n",
    "    return\n",
    "\n",
    "directory_setup()"
   ]
  },
  {
   "cell_type": "code",
   "execution_count": 12,
   "metadata": {},
   "outputs": [],
   "source": [
    "# Converts a given .docx file to a .pdf using Pandoc and LibreOffice and measures the time it took\n",
    "\n",
    "import time\n",
    "\n",
    "def compare_conversion_time(incoming_file):\n",
    "\n",
    "    outgoing_file = f\"{incoming_file.split('.')[0]}.pdf\"\n",
    "\n",
    "    # Pandoc\n",
    "\n",
    "    if os.path.exists(f\"converted_files/pandoc/{outgoing_file}\"):\n",
    "        os.remove(f\"converted_files/pandoc/{outgoing_file}\")\n",
    "\n",
    "    t1 = time.time()\n",
    "    _ = !docker run -d --rm --volume \"$(pwd):/data\" pandoc/latex:2.17 \"{incoming_file}\" --from docx --to pdf -o \"./converted_files/pandoc/{outgoing_file}\"\n",
    "    t2 = time.time()\n",
    "\n",
    "    duration_1 = t2 - t1\n",
    "\n",
    "    # LibreOffice\n",
    "    \n",
    "    if os.path.exists(f\"converted_files/libreoffice/{outgoing_file}\"):\n",
    "        os.remove(f\"converted_files/libreoffice/{outgoing_file}\")\n",
    "\n",
    "    t1 = time.time()\n",
    "    _ = !docker run -d --rm --volume \"$(pwd):/data\" instructure/libreoffice:6.3 bash -c \"cd data && soffice --headless --convert-to pdf --outdir ./converted_files/libreoffice {incoming_file}\"\n",
    "    t2 = time.time()\n",
    "\n",
    "    duration_2 = t2 - t1\n",
    "\n",
    "    return {\n",
    "        \"p\": duration_1,\n",
    "        \"l\": duration_2\n",
    "    }"
   ]
  },
  {
   "cell_type": "markdown",
   "metadata": {},
   "source": [
    "Install Pandoc Docker Image\n",
    "\n",
    "*If you have not previously installed this image, this step may take some time.*"
   ]
  },
  {
   "cell_type": "code",
   "execution_count": 13,
   "metadata": {},
   "outputs": [
    {
     "name": "stdout",
     "output_type": "stream",
     "text": [
      "Successfully pulled docker.io/pandoc/latex:2.17\n"
     ]
    }
   ],
   "source": [
    "output = !docker pull -q pandoc/latex:2.17\n",
    "\n",
    "print(f\"Successfully pulled {output[0]}\")"
   ]
  },
  {
   "cell_type": "markdown",
   "metadata": {},
   "source": [
    "Install LibreOffice Docker Image\n",
    "\n",
    "*If you have not previously installed this image, this step may take some time.*"
   ]
  },
  {
   "cell_type": "code",
   "execution_count": 14,
   "metadata": {},
   "outputs": [
    {
     "name": "stdout",
     "output_type": "stream",
     "text": [
      "Successfully pulled docker.io/instructure/libreoffice:6.3\n"
     ]
    }
   ],
   "source": [
    "output = !docker pull -q instructure/libreoffice:6.3\n",
    "\n",
    "print(f\"Successfully pulled {output[0]}\")"
   ]
  },
  {
   "cell_type": "markdown",
   "metadata": {},
   "source": [
    "#### Conversion Test Cases\n",
    "\n",
    "In the below code block we test the conversion performance using three sample files of different sizes. These are ``file-sample_100kb.docx``, ``file-sample_500kb.docx``, and ``file-sample_1MB.docx``.\n",
    "\n",
    "Each file is subjected to ``3`` conversion rounds, of which, the best, worst and average conversion times are recorded."
   ]
  },
  {
   "cell_type": "code",
   "execution_count": 15,
   "metadata": {},
   "outputs": [
    {
     "name": "stdout",
     "output_type": "stream",
     "text": [
      "Each file will be converted 3 times\n",
      "\n",
      "\n",
      "Converting file-sample_100kb.docx to file-sample_100kb.pdf\n",
      "Converting file-sample_500kb.docx to file-sample_500kb.pdf\n",
      "Converting file-sample_1MB.docx to file-sample_1MB.pdf\n",
      "\n",
      "\n",
      "{\n",
      "   \"conversion_file\": \"file-sample_100kb.docx\",\n",
      "   \"conversion_file_result\": {\n",
      "      \"p\": {\n",
      "         \"min\": 0.39881181716918945,\n",
      "         \"max\": 0.5820209980010986,\n",
      "         \"avg\": 0.5073512395222982,\n",
      "         \"raw\": [\n",
      "            0.39881181716918945,\n",
      "            0.5412209033966064,\n",
      "            0.5820209980010986\n",
      "         ]\n",
      "      },\n",
      "      \"l\": {\n",
      "         \"min\": 0.4338099956512451,\n",
      "         \"max\": 0.6113042831420898,\n",
      "         \"avg\": 0.5338107744852701,\n",
      "         \"raw\": [\n",
      "            0.4338099956512451,\n",
      "            0.6113042831420898,\n",
      "            0.5563180446624756\n",
      "         ]\n",
      "      }\n",
      "   }\n",
      "}\n",
      "{\n",
      "   \"conversion_file\": \"file-sample_500kb.docx\",\n",
      "   \"conversion_file_result\": {\n",
      "      \"p\": {\n",
      "         \"min\": 0.64292311668396,\n",
      "         \"max\": 0.8235929012298584,\n",
      "         \"avg\": 0.7188875675201416,\n",
      "         \"raw\": [\n",
      "            0.64292311668396,\n",
      "            0.6901466846466064,\n",
      "            0.8235929012298584\n",
      "         ]\n",
      "      },\n",
      "      \"l\": {\n",
      "         \"min\": 0.7199318408966064,\n",
      "         \"max\": 0.949883222579956,\n",
      "         \"avg\": 0.8290417989095052,\n",
      "         \"raw\": [\n",
      "            0.7199318408966064,\n",
      "            0.8173103332519531,\n",
      "            0.949883222579956\n",
      "         ]\n",
      "      }\n",
      "   }\n",
      "}\n",
      "{\n",
      "   \"conversion_file\": \"file-sample_1MB.docx\",\n",
      "   \"conversion_file_result\": {\n",
      "      \"p\": {\n",
      "         \"min\": 0.7342650890350342,\n",
      "         \"max\": 1.0287959575653076,\n",
      "         \"avg\": 0.8622293472290039,\n",
      "         \"raw\": [\n",
      "            0.7342650890350342,\n",
      "            0.8236269950866699,\n",
      "            1.0287959575653076\n",
      "         ]\n",
      "      },\n",
      "      \"l\": {\n",
      "         \"min\": 0.7219140529632568,\n",
      "         \"max\": 0.7856619358062744,\n",
      "         \"avg\": 0.7492086092631022,\n",
      "         \"raw\": [\n",
      "            0.7400498390197754,\n",
      "            0.7219140529632568,\n",
      "            0.7856619358062744\n",
      "         ]\n",
      "      }\n",
      "   }\n",
      "}\n",
      "\n",
      "\n",
      "Converted files are available under './converted_files'\n"
     ]
    }
   ],
   "source": [
    "import numpy as np\n",
    "\n",
    "CONVERSION_ROUNDS = 3\n",
    "\n",
    "conversion_files = [\"file-sample_100kb.docx\", \"file-sample_500kb.docx\", \"file-sample_1MB.docx\"]\n",
    "conversion_files_results = []\n",
    "\n",
    "print(f\"Each file will be converted {CONVERSION_ROUNDS} times\")\n",
    "\n",
    "print(\"\\n\")\n",
    "\n",
    "for conversion_file in conversion_files:\n",
    "    print(f\"Converting {conversion_file} to {conversion_file.split('.')[0]}.pdf\")\n",
    "    \n",
    "    results_internal_p = []\n",
    "    results_internal_l = []\n",
    "\n",
    "    for i in range(CONVERSION_ROUNDS):\n",
    "        results = compare_conversion_time(conversion_file)\n",
    "        results_internal_p.append(results[\"p\"])\n",
    "        results_internal_l.append(results[\"l\"])\n",
    "\n",
    "    conversion_files_results.append({\n",
    "        \"conversion_file\": conversion_file,\n",
    "        \"conversion_file_result\": {\n",
    "            \"p\": {\n",
    "                \"min\": np.min(results_internal_p),\n",
    "                \"max\": np.max(results_internal_p),\n",
    "                \"avg\": np.mean(results_internal_p),\n",
    "                \"raw\": results_internal_p\n",
    "            },\n",
    "            \"l\": {\n",
    "                \"min\": np.min(results_internal_l),\n",
    "                \"max\": np.max(results_internal_l),\n",
    "                \"avg\": np.mean(results_internal_l),\n",
    "                \"raw\": results_internal_l\n",
    "            }\n",
    "        }\n",
    "    })\n",
    "\n",
    "print(\"\\n\")\n",
    "import json\n",
    "for conversion_files_result in conversion_files_results:\n",
    "    print(json.dumps(conversion_files_result, indent=3))\n",
    "\n",
    "print(\"\\n\")\n",
    "\n",
    "print(\"Converted files are available under './converted_files'\")"
   ]
  },
  {
   "cell_type": "markdown",
   "metadata": {},
   "source": [
    "#### Conversion Analysis"
   ]
  },
  {
   "cell_type": "code",
   "execution_count": 16,
   "metadata": {},
   "outputs": [
    {
     "data": {
      "image/png": "[encoded data removed]",
      "text/plain": [
       "<Figure size 432x288 with 1 Axes>"
      ]
     },
     "metadata": {
      "needs_background": "light"
     },
     "output_type": "display_data"
    },
    {
     "data": {
      "image/png": "[encoded data removed]",
      "text/plain": [
       "<Figure size 432x288 with 1 Axes>"
      ]
     },
     "metadata": {
      "needs_background": "light"
     },
     "output_type": "display_data"
    },
    {
     "data": {
      "image/png": "[encoded data removed]",
      "text/plain": [
       "<Figure size 432x288 with 1 Axes>"
      ]
     },
     "metadata": {
      "needs_background": "light"
     },
     "output_type": "display_data"
    }
   ],
   "source": [
    "import matplotlib.pyplot as plt\n",
    "\n",
    "# Compare the average of X rounds of conversions between Pandoc and LibreOffice\n",
    "\n",
    "x1_avg = np.arange(len(conversion_files))\n",
    "\n",
    "y1_avg = []\n",
    "y2_avg = []\n",
    "\n",
    "for conversion_files_result in conversion_files_results:\n",
    "    y1_avg.append(conversion_files_result[\"conversion_file_result\"][\"p\"][\"avg\"])\n",
    "    y2_avg.append(conversion_files_result[\"conversion_file_result\"][\"l\"][\"avg\"])\n",
    "  \n",
    "fig_avg, ax_avg = plt.subplots()\n",
    "\n",
    "ax_avg.set_title(f\"Conversion Time - Avg. of {CONVERSION_ROUNDS} Rounds\")\n",
    "\n",
    "x2_avg = [x + 0.40 for x in x1_avg]\n",
    "\n",
    "ax_avg.bar(x1_avg, y1_avg, 0.40, label=\"Pandoc\")\n",
    "ax_avg.bar(x2_avg, y2_avg, 0.40, label=\"LibreOffice\")\n",
    "\n",
    "ax_avg.legend()\n",
    "ax_avg.set_ylabel('Duration (seconds)')\n",
    "\n",
    "ax_avg.set_xticks([r + 0.20 for r in range(len(conversion_files))])\n",
    "ax_avg.set_xticklabels(conversion_files, rotation=45)\n",
    "\n",
    "plt.show()\n",
    "\n",
    "# Compare the best of X rounds of conversions between Pandoc and LibreOffice\n",
    "\n",
    "x1_min = np.arange(len(conversion_files))\n",
    "\n",
    "y1_min = []\n",
    "y2_min = []\n",
    "\n",
    "for conversion_files_result in conversion_files_results:\n",
    "    y1_min.append(conversion_files_result[\"conversion_file_result\"][\"p\"][\"min\"])\n",
    "    y2_min.append(conversion_files_result[\"conversion_file_result\"][\"l\"][\"min\"])\n",
    "  \n",
    "fig_min, ax_min = plt.subplots()\n",
    "\n",
    "ax_min.set_title(f\"Conversion Time - Best of {CONVERSION_ROUNDS} Rounds\")\n",
    "\n",
    "x2_min = [x + 0.40 for x in x1_min]\n",
    "\n",
    "ax_min.bar(x1_min, y1_min, 0.40, label=\"Pandoc\")\n",
    "ax_min.bar(x2_min, y2_min, 0.40, label=\"LibreOffice\")\n",
    "\n",
    "ax_min.legend()\n",
    "ax_min.set_ylabel('Duration (seconds)')\n",
    "\n",
    "ax_min.set_xticks([r + 0.20 for r in range(len(conversion_files))])\n",
    "ax_min.set_xticklabels(conversion_files, rotation=45)\n",
    "\n",
    "plt.show()\n",
    "\n",
    "# Compare the worst of X rounds of conversions between Pandoc and LibreOffice\n",
    "\n",
    "x1_max = np.arange(len(conversion_files))\n",
    "\n",
    "y1_max = []\n",
    "y2_max = []\n",
    "\n",
    "for conversion_files_result in conversion_files_results:\n",
    "    y1_max.append(conversion_files_result[\"conversion_file_result\"][\"p\"][\"max\"])\n",
    "    y2_max.append(conversion_files_result[\"conversion_file_result\"][\"l\"][\"max\"])\n",
    "  \n",
    "fig_max, ax_max = plt.subplots()\n",
    "\n",
    "ax_max.set_title(f\"Conversion Time - Worst of {CONVERSION_ROUNDS} Rounds\")\n",
    "\n",
    "x2_max = [x + 0.40 for x in x1_max]\n",
    "\n",
    "ax_max.bar(x1_max, y1_max, 0.40, label=\"Pandoc\")\n",
    "ax_max.bar(x2_max, y2_max, 0.40, label=\"LibreOffice\")\n",
    "\n",
    "ax_max.legend()\n",
    "ax_max.set_ylabel('Duration (seconds)')\n",
    "\n",
    "ax_max.set_xticks([r + 0.20 for r in range(len(conversion_files))])\n",
    "ax_max.set_xticklabels(conversion_files, rotation=45)\n",
    "\n",
    "plt.show()\n"
   ]
  },
  {
   "cell_type": "code",
   "execution_count": 17,
   "metadata": {},
   "outputs": [
    {
     "data": {
      "image/png": "[encoded data removed]",
      "text/plain": [
       "<Figure size 432x288 with 1 Axes>"
      ]
     },
     "metadata": {
      "needs_background": "light"
     },
     "output_type": "display_data"
    },
    {
     "data": {
      "image/png": "[encoded data removed]",
      "text/plain": [
       "<Figure size 432x288 with 1 Axes>"
      ]
     },
     "metadata": {
      "needs_background": "light"
     },
     "output_type": "display_data"
    }
   ],
   "source": [
    "# Compare best, worst and average conversion time for each file using Pandoc\n",
    "\n",
    "x1_p = np.arange(len(conversion_files))\n",
    "\n",
    "y1_p = []\n",
    "y2_p = []\n",
    "y3_p = []\n",
    "\n",
    "for conversion_files_result in conversion_files_results:\n",
    "    y1_p.append(conversion_files_result[\"conversion_file_result\"][\"p\"][\"min\"])\n",
    "    y2_p.append(conversion_files_result[\"conversion_file_result\"][\"p\"][\"max\"])\n",
    "    y3_p.append(conversion_files_result[\"conversion_file_result\"][\"p\"][\"avg\"])\n",
    "  \n",
    "fig_p, ax_p = plt.subplots()\n",
    "\n",
    "ax_p.set_title(f\"Pandoc Conversion Time - {CONVERSION_ROUNDS} Rounds\")\n",
    "\n",
    "x2_p = [x + 0.25 for x in x1_p]\n",
    "x3_p = [x + 0.25 for x in x2_p]\n",
    "\n",
    "ax_p.bar(x1_p, y1_p, 0.25, label=\"Best\")\n",
    "ax_p.bar(x2_p, y2_p, 0.25, label=\"Worst\")\n",
    "ax_p.bar(x3_p, y3_p, 0.25, label=\"Average\")\n",
    "\n",
    "ax_p.legend()\n",
    "ax_p.set_ylabel('Duration (seconds)')\n",
    "\n",
    "ax_p.set_xticks([r + 0.25 for r in range(len(conversion_files))])\n",
    "ax_p.set_xticklabels(conversion_files, rotation=45)\n",
    "\n",
    "plt.show()\n",
    "\n",
    "# Compare best, worst and average conversion time for each file using LibreOffice\n",
    "\n",
    "x1_l = np.arange(len(conversion_files))\n",
    "\n",
    "y1_l = []\n",
    "y2_l = []\n",
    "y3_l = []\n",
    "\n",
    "for conversion_files_result in conversion_files_results:\n",
    "    y1_l.append(conversion_files_result[\"conversion_file_result\"][\"l\"][\"min\"])\n",
    "    y2_l.append(conversion_files_result[\"conversion_file_result\"][\"l\"][\"max\"])\n",
    "    y3_l.append(conversion_files_result[\"conversion_file_result\"][\"l\"][\"avg\"])\n",
    "  \n",
    "fig_l, ax_l = plt.subplots()\n",
    "\n",
    "ax_l.set_title(f\"LibreOffice Conversion Time - {CONVERSION_ROUNDS} Rounds\")\n",
    "\n",
    "x2_l = [x + 0.25 for x in x1_l]\n",
    "x3_l = [x + 0.25 for x in x2_l]\n",
    "\n",
    "ax_l.bar(x1_l, y1_l, 0.25, label=\"Best\")\n",
    "ax_l.bar(x2_l, y2_l, 0.25, label=\"Worst\")\n",
    "ax_l.bar(x3_l, y3_l, 0.25, label=\"Average\")\n",
    "\n",
    "ax_l.legend()\n",
    "ax_l.set_ylabel('Duration (seconds)')\n",
    "\n",
    "ax_l.set_xticks([r + 0.25 for r in range(len(conversion_files))])\n",
    "ax_l.set_xticklabels(conversion_files, rotation=45)\n",
    "\n",
    "plt.show()\n"
   ]
  },
  {
   "cell_type": "code",
   "execution_count": 18,
   "metadata": {},
   "outputs": [
    {
     "data": {
      "image/png": "[encoded data removed]",
      "text/plain": [
       "<Figure size 432x288 with 1 Axes>"
      ]
     },
     "metadata": {
      "needs_background": "light"
     },
     "output_type": "display_data"
    }
   ],
   "source": [
    "# Compare the compressed size of each Docker image\n",
    "\n",
    "fig, ax = plt.subplots()\n",
    "\n",
    "ax.set_title(\"Pandoc vs. LibreOffice image size\")\n",
    "ax.set_ylabel(\"Size (megabytes)\")\n",
    "ax.bar([\"Pandoc\", \"LibreOffice\"], [191.19, 744.85])\n",
    "\n",
    "# Sources: https://hub.docker.com/r/pandoc/latex/tags, https://hub.docker.com/r/instructure/libreoffice\n",
    "\n",
    "plt.show()"
   ]
  }
 ],
 "metadata": {
  "kernelspec": {
   "display_name": "Python 3.8.2 64-bit",
   "language": "python",
   "name": "python3"
  },
  "language_info": {
   "codemirror_mode": {
    "name": "ipython",
    "version": 3
   },
   "file_extension": ".py",
   "mimetype": "text/x-python",
   "name": "python",
   "nbconvert_exporter": "python",
   "pygments_lexer": "ipython3",
   "version": "3.8.2"
  },
  "orig_nbformat": 4,
  "vscode": {
   "interpreter": {
    "hash": "aee8b7b246df8f9039afb4144a1f6fd8d2ca17a180786b69acc140d282b71a49"
   }
  }
 },
 "nbformat": 4,
 "nbformat_minor": 2
}
